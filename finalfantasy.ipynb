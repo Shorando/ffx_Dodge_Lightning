{
 "cells": [
  {
   "cell_type": "code",
   "execution_count": null,
   "metadata": {},
   "outputs": [],
   "source": [
    "from __future__ import annotations\n",
    "import time\n",
    "import threading\n",
    "from typing import Final\n",
    "import mss  \n",
    "import numpy as np\n",
    "import keyboard  "
   ]
  },
  {
   "cell_type": "code",
   "execution_count": null,
   "metadata": {},
   "outputs": [],
   "source": [
    "KEY_TO_PRESS: Final[str] = \"c\"      \n",
    "KEY_HOLD_TIME: Final[float] = 0.10   \n",
    "WHITE_THRESHOLD: Final[int] = 60            \n",
    "WHITE_RATIO_HIGH: Final[float] = 0.50  \n",
    "WHITE_RATIO_LOW: Final[float] = 0.40   \n",
    "SUBSAMPLE_STEP: Final[int] = 4         "
   ]
  },
  {
   "cell_type": "code",
   "execution_count": null,
   "metadata": {},
   "outputs": [],
   "source": [
    "def main() -> None:\n",
    "    flash_state = False   \n",
    "    rayos = 0\n",
    "    with mss.mss() as sct:\n",
    "        monitor = sct.monitors[0]  \n",
    "        while True:\n",
    "            frame = np.array(sct.grab(monitor))\n",
    "            frame = np.asarray(sct.grab(monitor))[:, :, :3]\n",
    "            sample = frame[::SUBSAMPLE_STEP, ::SUBSAMPLE_STEP]\n",
    "            white_ratio = np.mean(np.all(sample > WHITE_THRESHOLD, axis=2))\n",
    "            flash_now = white_ratio > WHITE_RATIO_HIGH\n",
    "            if flash_now and not flash_state:    \n",
    "                keyboard.press(KEY_TO_PRESS)\n",
    "                rayos+=1\n",
    "                print(rayos) \n",
    "                time.sleep(KEY_HOLD_TIME)\n",
    "                keyboard.release(KEY_TO_PRESS)\n",
    "                flash_state = True\n",
    "            elif flash_state and white_ratio < WHITE_RATIO_LOW:\n",
    "                flash_state = False                \n",
    "if __name__ == \"__main__\":\n",
    "    main()"
   ]
  }
 ],
 "metadata": {
  "kernelspec": {
   "display_name": ".venv",
   "language": "python",
   "name": "python3"
  },
  "language_info": {
   "codemirror_mode": {
    "name": "ipython",
    "version": 3
   },
   "file_extension": ".py",
   "mimetype": "text/x-python",
   "name": "python",
   "nbconvert_exporter": "python",
   "pygments_lexer": "ipython3",
   "version": "3.11.6"
  }
 },
 "nbformat": 4,
 "nbformat_minor": 2
}
